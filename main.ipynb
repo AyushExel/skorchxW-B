{
 "cells": [
  {
   "cell_type": "markdown",
   "metadata": {},
   "source": [
    "## Automate ML experiments with Skorch and W&B\n",
    "Checkout [this report](https://app.wandb.ai/cayush/uncategorized/reports/Automate-ML-experiments-with-skorch-and-W%26B--Vmlldzo4NjA4Ng/edit) to follow along with the code"
   ]
  },
  {
   "cell_type": "code",
   "execution_count": 2,
   "metadata": {},
   "outputs": [
    {
     "name": "stdout",
     "output_type": "stream",
     "text": [
      "['.ipynb_checkpoints', 'wandb', 'test.csv', 'train.csv', 'Untitled.ipynb', 'sampleSubmission.csv']\n"
     ]
    }
   ],
   "source": [
    "from __future__ import print_function\n",
    "import torch\n",
    "import torch.nn as nn\n",
    "import torch.nn.functional as F\n",
    "import torch.optim as optim\n",
    "from torch.autograd import Variable\n",
    "from torchvision import datasets,transforms\n",
    "from torch.utils.data import Dataset,DataLoader\n",
    "import numpy as np \n",
    "import pandas as pd \n",
    "\n",
    "import os\n",
    "print(os.listdir())\n",
    "from sklearn.preprocessing import StandardScaler\n",
    "from sklearn.model_selection import train_test_split\n",
    "\n",
    "import matplotlib.pyplot as plt\n"
   ]
  },
  {
   "cell_type": "code",
   "execution_count": 3,
   "metadata": {},
   "outputs": [],
   "source": [
    "\n",
    "xy = np.loadtxt('train.csv',delimiter=',',skiprows = 1, usecols = np.arange(1,94))\n",
    "X = pd.read_csv('train.csv', sep = ',')\n",
    "Y =  X['target'].map({'Class_1': 1, 'Class_2': 2,\n",
    "                                  'Class_3': 3, 'Class_4': 4,\n",
    "                                  'Class_5': 5, 'Class_6': 6,\n",
    "                                  'Class_7': 7, 'Class_8': 8,\n",
    "                                  'Class_9': 9})\n",
    "\n",
    "Y = Y.astype('float64')\n",
    "X =X.drop(['id','target'],axis=1)"
   ]
  },
  {
   "cell_type": "markdown",
   "metadata": {},
   "source": [
    "# Hyper-parameter Sweep"
   ]
  },
  {
   "cell_type": "code",
   "execution_count": null,
   "metadata": {},
   "outputs": [],
   "source": []
  },
  {
   "cell_type": "code",
   "execution_count": 4,
   "metadata": {},
   "outputs": [
    {
     "name": "stdout",
     "output_type": "stream",
     "text": [
      "\u001b[34m\u001b[1mwandb\u001b[0m: Appending key for api.wandb.ai to your netrc file: /home/ayush/.netrc\r\n",
      "\u001b[32mSuccessfully logged in to Weights & Biases!\u001b[0m\r\n"
     ]
    }
   ],
   "source": [
    "import wandb\n",
    "sweep_config = {\n",
    "    'method': 'random', #grid, random\n",
    "    'metric': {\n",
    "      'name': 'valid_loss',\n",
    "      'goal': 'minimize'   \n",
    "    },\n",
    "    'parameters': {\n",
    "\n",
    "        'learning_rate': {\n",
    "            'values': [0.1, 0.01,0.001]\n",
    "        },\n",
    "\n",
    "        'fc_layer1':{\n",
    "              'values':[93]\n",
    "        },\n",
    "        'fc_layer2':{\n",
    "            'values':[8,10,12,16]\n",
    "        },\n",
    "        'fc_layer3':{\n",
    "            'values':[4,8,10,20]\n",
    "        }\n",
    "    }\n",
    "}\n",
    "\n",
    "config_defaults = {\n",
    "        'learning_rate': 0.001,\n",
    "\n",
    "        'fc_layer1' : 93,\n",
    "        'fc_layer2' : 10,\n",
    "        'fc_layer3' : 10,\n",
    "    }\n"
   ]
  },
  {
   "cell_type": "markdown",
   "metadata": {},
   "source": []
  },
  {
   "cell_type": "code",
   "execution_count": 5,
   "metadata": {},
   "outputs": [],
   "source": [
    "import skorch\n",
    "from skorch import NeuralNetClassifier\n",
    "\n",
    "'''\n",
    "class Net(nn.Module):\n",
    "    def __init__(self):\n",
    "        super(Net,self).__init__()\n",
    "        self.l1 = nn.Linear(93, 16)\n",
    "        self.l2 = nn.Linear(16,8)\n",
    "        self.l3 = nn.Linear(8,1)\n",
    "    def forward(self,x):\n",
    "        x = F.relu(self.l1(x))\n",
    "        x = F.relu(self.l2(x))\n",
    "        return self.l3(x)\n",
    "'''\n",
    "\n",
    "class parseModel(nn.Module):\n",
    "    def __init__(self,def_config={}):\n",
    "        super(parseModel,self).__init__()\n",
    "        self.layers = torch.nn.ModuleList();\n",
    "        self.layer_dims = []\n",
    "        config_dict = {str(k):v for k, v in dict(def_config).items()}\n",
    "        for key in config_dict:\n",
    "            if key.find('fc_layer') != -1:\n",
    "                self.layer_dims.append(config_dict[key])\n",
    "        for i in range(len(self.layer_dims)-1):\n",
    "            self.layers.append(torch.nn.Linear(self.layer_dims[i],self.layer_dims[i+1]))\n",
    "        self.layers.append(torch.nn.Linear(self.layer_dims[len(self.layer_dims)-1],1))\n",
    "    \n",
    "    def print_model(self):\n",
    "        print(self.layers)\n",
    "        \n",
    "    def forward(self,x):\n",
    "        y = x\n",
    "        for i in range(len(self.layers)):\n",
    "            y = self.layers[i](y)\n",
    "        return y\n",
    "\n",
    "class ClassifierNet():\n",
    "    def __init__(self,config={}):\n",
    "        self.net = None\n",
    "        self.config = config\n",
    "        self.data_loaded = False\n",
    "\n",
    "        \n",
    "    def loadData(self,X,Y,split=True,test=0.2):\n",
    "        X_train,X_test,y_train,y_test = train_test_split(X.values.astype('float32'),\n",
    "                                             Y.values.astype('float32').reshape(-1,1),\n",
    "                                             test_size=.2)\n",
    "\n",
    "        self.X_train = X_train\n",
    "        self.y_train = y_train\n",
    "        self.X_test = X_test\n",
    "        self.y_test = y_test\n",
    "        \n",
    "        self.data_loaded = True\n",
    "        \n",
    "    def buildNetwork(self,new_config):\n",
    "        self.config = new_config\n",
    "        model = parseModel(self.config)\n",
    "        self.net = model\n",
    "        \n",
    "    def train(self):\n",
    "        if self.data_loaded == False:\n",
    "            print('Data not loaded')\n",
    "            return\n",
    "        wandb_run = wandb.init()\n",
    "        config = wandb.config\n",
    "        self.buildNetwork(config)\n",
    "        \n",
    "        from skorch.dataset import Dataset\n",
    "        from skorch.helper import predefined_split\n",
    "        from skorch.callbacks import WandbLogger\n",
    "\n",
    "        valid_ds = Dataset(self.X_test, self.y_test)\n",
    "\n",
    "\n",
    "        optimizer = optim.Adam\n",
    "        Net = NeuralNetClassifier(\n",
    "        self.net,\n",
    "        criterion= nn.BCEWithLogitsLoss ,\n",
    "        max_epochs=15,\n",
    "        optimizer=optimizer,\n",
    "        optimizer__lr = self.config.learning_rate,\n",
    "        callbacks=[WandbLogger(wandb_run)],\n",
    "        train_split=predefined_split(valid_ds)\n",
    "\n",
    "        )\n",
    "        Net.fit(self.X_train, self.y_train)\n",
    "    \n",
    "    def runSweep(self,sweep_config):\n",
    "        sweep_id = wandb.sweep(sweep_config)\n",
    "        wandb.agent(sweep_id,function=self.train)\n",
    "\n"
   ]
  },
  {
   "cell_type": "markdown",
   "metadata": {},
   "source": []
  },
  {
   "cell_type": "code",
   "execution_count": 6,
   "metadata": {},
   "outputs": [],
   "source": [
    "classifier  = ClassifierNet()\n",
    "classifier.loadData(X,Y)"
   ]
  },
  {
   "cell_type": "code",
   "execution_count": null,
   "metadata": {},
   "outputs": [
    {
     "name": "stdout",
     "output_type": "stream",
     "text": [
      "Create sweep with ID: wmrcdkdu\n",
      "Sweep URL: https://app.wandb.ai/cayush/uncategorized/sweeps/wmrcdkdu\n",
      "wandb: Agent Starting Run: dx1sfl5x with config:\n",
      "\tfc_layer1: 93\n",
      "\tfc_layer2: 8\n",
      "\tfc_layer3: 10\n",
      "\tlearning_rate: 0.1\n",
      "wandb: Agent Started Run: dx1sfl5x\n"
     ]
    },
    {
     "data": {
      "text/html": [
       "\n",
       "                Logging results to <a href=\"https://wandb.com\" target=\"_blank\">Weights & Biases</a> <a href=\"https://docs.wandb.com/integrations/jupyter.html\" target=\"_blank\">(Documentation)</a>.<br/>\n",
       "                Project page: <a href=\"https://app.wandb.ai/cayush/uncategorized\" target=\"_blank\">https://app.wandb.ai/cayush/uncategorized</a><br/>\n",
       "                Sweep page: <a href=\"https://app.wandb.ai/cayush/uncategorized/sweeps/wmrcdkdu\" target=\"_blank\">https://app.wandb.ai/cayush/uncategorized/sweeps/wmrcdkdu</a><br/>\n",
       "Run page: <a href=\"https://app.wandb.ai/cayush/uncategorized/runs/dx1sfl5x\" target=\"_blank\">https://app.wandb.ai/cayush/uncategorized/runs/dx1sfl5x</a><br/>\n",
       "            "
      ],
      "text/plain": [
       "<IPython.core.display.HTML object>"
      ]
     },
     "metadata": {},
     "output_type": "display_data"
    },
    {
     "name": "stderr",
     "output_type": "stream",
     "text": [
      "wandb: Wandb version 0.8.32 is available!  To upgrade, please run:\n",
      "wandb:  $ pip install wandb --upgrade\n"
     ]
    },
    {
     "name": "stdout",
     "output_type": "stream",
     "text": [
      "Layers:\n",
      " {'fc_layer1': 93, 'fc_layer2': 8, 'fc_layer3': 10, 'learning_rate': 0.1}\n",
      "  epoch        train_loss    valid_acc        valid_loss     dur\n",
      "-------  ----------------  -----------  ----------------  ------\n",
      "      1  \u001b[36m-1816534302.0274\u001b[0m       \u001b[32m0.0000\u001b[0m  \u001b[35m-8099537162.7563\u001b[0m  1.9372\n",
      "      2  \u001b[36m-31726719229.3625\u001b[0m       0.0000  \u001b[35m-69303167321.5255\u001b[0m  1.7095\n",
      "      3  \u001b[36m-135743356720.1467\u001b[0m       0.0000  \u001b[35m-224680946745.5876\u001b[0m  1.8949\n",
      "      4  \u001b[36m-346740250671.2469\u001b[0m       0.0000  \u001b[35m-500873832968.2741\u001b[0m  1.8314\n",
      "      5  \u001b[36m-686419442680.6771\u001b[0m       0.0000  \u001b[35m-915889496577.6548\u001b[0m  1.6125\n",
      "      6  \u001b[36m-1169829847863.1387\u001b[0m       0.0000  \u001b[35m-1482626177065.0396\u001b[0m  1.8566\n",
      "      7  \u001b[36m-1808126175820.8899\u001b[0m       0.0000  \u001b[35m-2211041964018.7612\u001b[0m  1.8216\n",
      "      8  \u001b[36m-2610263512208.5127\u001b[0m       0.0000  \u001b[35m-3109475588560.6724\u001b[0m  1.8287\n",
      "      9  \u001b[36m-3584023634064.6367\u001b[0m       0.0000  \u001b[35m-4185442274779.9248\u001b[0m  1.8241\n",
      "     10  \u001b[36m-4736609506228.7441\u001b[0m       0.0000  \u001b[35m-5446077907706.5391\u001b[0m  1.8216\n",
      "     11  \u001b[36m-6075012743660.4932\u001b[0m       0.0000  \u001b[35m-6898425630161.3340\u001b[0m  1.8217\n",
      "     12  \u001b[36m-7606189872692.1904\u001b[0m       0.0000  \u001b[35m-8549559513381.8955\u001b[0m  1.8461\n",
      "     13  \u001b[36m-9337158833287.9082\u001b[0m       0.0000  \u001b[35m-10406624680305.3555\u001b[0m  1.7432\n",
      "     14  \u001b[36m-11275036523389.5547\u001b[0m       0.0000  \u001b[35m-12476887815481.0918\u001b[0m  1.8367\n",
      "     15  \u001b[36m-13427069522519.8945\u001b[0m       0.0000  \u001b[35m-14767760437764.3027\u001b[0m  1.8575\n",
      "wandb: Agent Finished Run: dx1sfl5x \n",
      "\n",
      "wandb: Agent Starting Run: vo7657jr with config:\n",
      "\tfc_layer1: 93\n",
      "\tfc_layer2: 16\n",
      "\tfc_layer3: 8\n",
      "\tlearning_rate: 0.01\n",
      "wandb: Agent Started Run: vo7657jr\n"
     ]
    },
    {
     "data": {
      "text/html": [
       "\n",
       "                Logging results to <a href=\"https://wandb.com\" target=\"_blank\">Weights & Biases</a> <a href=\"https://docs.wandb.com/integrations/jupyter.html\" target=\"_blank\">(Documentation)</a>.<br/>\n",
       "                Project page: <a href=\"https://app.wandb.ai/cayush/uncategorized\" target=\"_blank\">https://app.wandb.ai/cayush/uncategorized</a><br/>\n",
       "                Sweep page: <a href=\"https://app.wandb.ai/cayush/uncategorized/sweeps/wmrcdkdu\" target=\"_blank\">https://app.wandb.ai/cayush/uncategorized/sweeps/wmrcdkdu</a><br/>\n",
       "Run page: <a href=\"https://app.wandb.ai/cayush/uncategorized/runs/vo7657jr\" target=\"_blank\">https://app.wandb.ai/cayush/uncategorized/runs/vo7657jr</a><br/>\n",
       "            "
      ],
      "text/plain": [
       "<IPython.core.display.HTML object>"
      ]
     },
     "metadata": {},
     "output_type": "display_data"
    },
    {
     "name": "stderr",
     "output_type": "stream",
     "text": [
      "wandb: Wandb version 0.8.32 is available!  To upgrade, please run:\n",
      "wandb:  $ pip install wandb --upgrade\n"
     ]
    },
    {
     "name": "stdout",
     "output_type": "stream",
     "text": [
      "Layers:\n",
      " {'fc_layer1': 93, 'fc_layer2': 16, 'fc_layer3': 8, 'learning_rate': 0.01}\n",
      "  epoch     train_loss    valid_acc      valid_loss     dur\n",
      "-------  -------------  -----------  --------------  ------\n",
      "      1  \u001b[36m-2948283.6087\u001b[0m       \u001b[32m0.0000\u001b[0m  \u001b[35m-13057511.7847\u001b[0m  1.7524\n",
      "      2  \u001b[36m-50906239.0956\u001b[0m       0.0000  \u001b[35m-111075490.0065\u001b[0m  2.2438\n",
      "      3  \u001b[36m-217419626.3559\u001b[0m       0.0000  \u001b[35m-359767943.8811\u001b[0m  1.9029\n",
      "      4  \u001b[36m-555104995.5929\u001b[0m       0.0000  \u001b[35m-801773284.1577\u001b[0m  2.1777\n",
      "      5  \u001b[36m-1098692126.6257\u001b[0m       0.0000  \u001b[35m-1465905849.7531\u001b[0m  1.9941\n",
      "      6  \u001b[36m-1872260596.9950\u001b[0m       0.0000  \u001b[35m-2372805586.3271\u001b[0m  1.9550\n",
      "      7  \u001b[36m-2893660256.1280\u001b[0m       0.0000  \u001b[35m-3538405109.9056\u001b[0m  2.0597\n",
      "      8  \u001b[36m-4177217730.0764\u001b[0m       0.0000  \u001b[35m-4976044647.9224\u001b[0m  1.7868\n",
      "      9  \u001b[36m-5735375884.7426\u001b[0m       0.0000  \u001b[35m-6697738171.1597\u001b[0m  1.8939\n",
      "     10  \u001b[36m-7579666180.9129\u001b[0m       0.0000  \u001b[35m-8714915009.2825\u001b[0m  2.0734\n",
      "     11  \u001b[36m-9721265978.4484\u001b[0m       0.0000  \u001b[35m-11038834223.3277\u001b[0m  1.9877\n",
      "     12  \u001b[36m-12171309282.4293\u001b[0m       0.0000  \u001b[35m-13680816329.8875\u001b[0m  2.3482\n",
      "     13  \u001b[36m-14941029847.0623\u001b[0m       0.0000  \u001b[35m-16652287056.0931\u001b[0m  1.9319\n",
      "     14  \u001b[36m-18041815907.3240\u001b[0m       0.0000  \u001b[35m-19964912766.4279\u001b[0m  2.2198\n",
      "     15  \u001b[36m-21485267902.5080\u001b[0m       0.0000  \u001b[35m-23630504093.5385\u001b[0m  2.2796\n",
      "wandb: Agent Finished Run: vo7657jr \n",
      "\n",
      "wandb: Agent Starting Run: u3muvliq with config:\n",
      "\tfc_layer1: 93\n",
      "\tfc_layer2: 10\n",
      "\tfc_layer3: 20\n",
      "\tlearning_rate: 0.001\n",
      "wandb: Agent Started Run: u3muvliq\n"
     ]
    },
    {
     "data": {
      "text/html": [
       "\n",
       "                Logging results to <a href=\"https://wandb.com\" target=\"_blank\">Weights & Biases</a> <a href=\"https://docs.wandb.com/integrations/jupyter.html\" target=\"_blank\">(Documentation)</a>.<br/>\n",
       "                Project page: <a href=\"https://app.wandb.ai/cayush/uncategorized\" target=\"_blank\">https://app.wandb.ai/cayush/uncategorized</a><br/>\n",
       "                Sweep page: <a href=\"https://app.wandb.ai/cayush/uncategorized/sweeps/wmrcdkdu\" target=\"_blank\">https://app.wandb.ai/cayush/uncategorized/sweeps/wmrcdkdu</a><br/>\n",
       "Run page: <a href=\"https://app.wandb.ai/cayush/uncategorized/runs/u3muvliq\" target=\"_blank\">https://app.wandb.ai/cayush/uncategorized/runs/u3muvliq</a><br/>\n",
       "            "
      ],
      "text/plain": [
       "<IPython.core.display.HTML object>"
      ]
     },
     "metadata": {},
     "output_type": "display_data"
    },
    {
     "name": "stderr",
     "output_type": "stream",
     "text": [
      "wandb: Wandb version 0.8.32 is available!  To upgrade, please run:\n",
      "wandb:  $ pip install wandb --upgrade\n"
     ]
    },
    {
     "name": "stdout",
     "output_type": "stream",
     "text": [
      "Layers:\n",
      " {'fc_layer1': 93, 'fc_layer2': 10, 'fc_layer3': 20, 'learning_rate': 0.001}\n",
      "  epoch    train_loss    valid_acc    valid_loss     dur\n",
      "-------  ------------  -----------  ------------  ------\n",
      "      1    \u001b[36m-4692.5660\u001b[0m       \u001b[32m0.0000\u001b[0m   \u001b[35m-20580.3434\u001b[0m  2.1344\n",
      "      2   \u001b[36m-79865.4291\u001b[0m       0.0000  \u001b[35m-174086.1814\u001b[0m  1.9673\n",
      "      3  \u001b[36m-340492.5849\u001b[0m       0.0000  \u001b[35m-563232.2876\u001b[0m  2.2464\n",
      "      4  \u001b[36m-868756.7457\u001b[0m       0.0000  \u001b[35m-1254593.0910\u001b[0m  2.0928\n",
      "      5  \u001b[36m-1718885.7759\u001b[0m       0.0000  \u001b[35m-2293161.7256\u001b[0m  1.9296\n",
      "      6  \u001b[36m-2928481.5644\u001b[0m       0.0000  \u001b[35m-3711168.8592\u001b[0m  2.0477\n",
      "      7  \u001b[36m-4525418.3986\u001b[0m       0.0000  \u001b[35m-5533496.4664\u001b[0m  1.9778\n",
      "      8  \u001b[36m-6532073.0375\u001b[0m       0.0000  \u001b[35m-7780983.2721\u001b[0m  1.8252\n",
      "      9  \u001b[36m-8967882.7480\u001b[0m       0.0000  \u001b[35m-10472394.0259\u001b[0m  1.9743\n",
      "     10  \u001b[36m-11850859.7697\u001b[0m       0.0000  \u001b[35m-13625586.8125\u001b[0m  1.9497\n",
      "     11  \u001b[36m-15198468.9124\u001b[0m       0.0000  \u001b[35m-17258153.0588\u001b[0m  2.1121\n",
      "     12  \u001b[36m-19028103.7016\u001b[0m       0.0000  \u001b[35m-21387761.3135\u001b[0m  1.8976\n",
      "     13  \u001b[36m-23357314.2456\u001b[0m       0.0000  \u001b[35m-26032312.4551\u001b[0m  2.0082\n",
      "     14  \u001b[36m-28203913.2681\u001b[0m       0.0000  \u001b[35m-31209986.3387\u001b[0m  1.9359\n",
      "     15  \u001b[36m-33585986.6141\u001b[0m       0.0000  \u001b[35m-36939227.1364\u001b[0m  1.8815\n",
      "wandb: Agent Finished Run: u3muvliq \n",
      "\n",
      "wandb: Agent Starting Run: xatpyw81 with config:\n",
      "\tfc_layer1: 93\n",
      "\tfc_layer2: 12\n",
      "\tfc_layer3: 4\n",
      "\tlearning_rate: 0.1\n",
      "wandb: Agent Started Run: xatpyw81\n"
     ]
    },
    {
     "data": {
      "text/html": [
       "\n",
       "                Logging results to <a href=\"https://wandb.com\" target=\"_blank\">Weights & Biases</a> <a href=\"https://docs.wandb.com/integrations/jupyter.html\" target=\"_blank\">(Documentation)</a>.<br/>\n",
       "                Project page: <a href=\"https://app.wandb.ai/cayush/uncategorized\" target=\"_blank\">https://app.wandb.ai/cayush/uncategorized</a><br/>\n",
       "                Sweep page: <a href=\"https://app.wandb.ai/cayush/uncategorized/sweeps/wmrcdkdu\" target=\"_blank\">https://app.wandb.ai/cayush/uncategorized/sweeps/wmrcdkdu</a><br/>\n",
       "Run page: <a href=\"https://app.wandb.ai/cayush/uncategorized/runs/xatpyw81\" target=\"_blank\">https://app.wandb.ai/cayush/uncategorized/runs/xatpyw81</a><br/>\n",
       "            "
      ],
      "text/plain": [
       "<IPython.core.display.HTML object>"
      ]
     },
     "metadata": {},
     "output_type": "display_data"
    },
    {
     "name": "stderr",
     "output_type": "stream",
     "text": [
      "wandb: Wandb version 0.8.32 is available!  To upgrade, please run:\n",
      "wandb:  $ pip install wandb --upgrade\n"
     ]
    },
    {
     "name": "stdout",
     "output_type": "stream",
     "text": [
      "Layers:\n",
      " {'fc_layer1': 93, 'fc_layer2': 12, 'fc_layer3': 4, 'learning_rate': 0.1}\n",
      "  epoch        train_loss    valid_acc        valid_loss     dur\n",
      "-------  ----------------  -----------  ----------------  ------\n",
      "      1  \u001b[36m-1087491324.4807\u001b[0m       \u001b[32m0.0000\u001b[0m  \u001b[35m-4854171144.6050\u001b[0m  1.9667\n",
      "      2  \u001b[36m-19028329995.8117\u001b[0m       0.0000  \u001b[35m-41572125300.8300\u001b[0m  1.9326\n",
      "      3  \u001b[36m-81434632085.0946\u001b[0m       0.0000  \u001b[35m-134795335127.9535\u001b[0m  2.0161\n",
      "      4  \u001b[36m-208029231588.3014\u001b[0m       0.0000  \u001b[35m-300507295455.4001\u001b[0m  2.0424\n",
      "      5  \u001b[36m-411832802554.5079\u001b[0m       0.0000  \u001b[35m-549512535402.0737\u001b[0m  1.9825\n",
      "      6  \u001b[36m-701874628063.6263\u001b[0m       0.0000  \u001b[35m-889549936543.3588\u001b[0m  2.2271\n",
      "      7  \u001b[36m-1084847669136.1299\u001b[0m       0.0000  \u001b[35m-1326594414601.2671\u001b[0m  2.5692\n",
      "      8  \u001b[36m-1566124951183.3750\u001b[0m       0.0000  \u001b[35m-1865649441950.2004\u001b[0m  2.2288\n",
      "      9  \u001b[36m-2150375929718.8931\u001b[0m       0.0000  \u001b[35m-2511224276447.8965\u001b[0m  2.0603\n",
      "     10  \u001b[36m-2841922025785.0210\u001b[0m       0.0000  \u001b[35m-3267599681150.7588\u001b[0m  2.5606\n",
      "     11  \u001b[36m-3644957818229.9619\u001b[0m       0.0000  \u001b[35m-4139001896043.8940\u001b[0m  2.2542\n",
      "     12  \u001b[36m-4563657904028.2109\u001b[0m       0.0000  \u001b[35m-5129676119020.8037\u001b[0m  2.2861\n",
      "     13  \u001b[36m-5602232850571.9199\u001b[0m       0.0000  \u001b[35m-6243909004853.9473\u001b[0m  2.1074\n",
      "     14  \u001b[36m-6764952591967.3008\u001b[0m       0.0000  \u001b[35m-7486059601236.8916\u001b[0m  2.2732\n",
      "     15  \u001b[36m-8056164945556.0918\u001b[0m       0.0000  \u001b[35m-8860575211461.7500\u001b[0m  2.7741\n",
      "wandb: Agent Finished Run: xatpyw81 \n",
      "\n",
      "wandb: Agent Starting Run: yib5bptw with config:\n",
      "\tfc_layer1: 93\n",
      "\tfc_layer2: 8\n",
      "\tfc_layer3: 8\n",
      "\tlearning_rate: 0.001\n",
      "wandb: Agent Started Run: yib5bptw\n"
     ]
    },
    {
     "data": {
      "text/html": [
       "\n",
       "                Logging results to <a href=\"https://wandb.com\" target=\"_blank\">Weights & Biases</a> <a href=\"https://docs.wandb.com/integrations/jupyter.html\" target=\"_blank\">(Documentation)</a>.<br/>\n",
       "                Project page: <a href=\"https://app.wandb.ai/cayush/uncategorized\" target=\"_blank\">https://app.wandb.ai/cayush/uncategorized</a><br/>\n",
       "                Sweep page: <a href=\"https://app.wandb.ai/cayush/uncategorized/sweeps/wmrcdkdu\" target=\"_blank\">https://app.wandb.ai/cayush/uncategorized/sweeps/wmrcdkdu</a><br/>\n",
       "Run page: <a href=\"https://app.wandb.ai/cayush/uncategorized/runs/yib5bptw\" target=\"_blank\">https://app.wandb.ai/cayush/uncategorized/runs/yib5bptw</a><br/>\n",
       "            "
      ],
      "text/plain": [
       "<IPython.core.display.HTML object>"
      ]
     },
     "metadata": {},
     "output_type": "display_data"
    },
    {
     "name": "stderr",
     "output_type": "stream",
     "text": [
      "wandb: Wandb version 0.8.32 is available!  To upgrade, please run:\n",
      "wandb:  $ pip install wandb --upgrade\n"
     ]
    },
    {
     "name": "stdout",
     "output_type": "stream",
     "text": [
      "Layers:\n",
      " {'fc_layer1': 93, 'fc_layer2': 8, 'fc_layer3': 8, 'learning_rate': 0.001}\n",
      "  epoch    train_loss    valid_acc    valid_loss     dur\n",
      "-------  ------------  -----------  ------------  ------\n",
      "      1    \u001b[36m-1742.2470\u001b[0m       \u001b[32m0.0000\u001b[0m    \u001b[35m-7241.9362\u001b[0m  2.1726\n",
      "      2   \u001b[36m-26741.2106\u001b[0m       0.0000   \u001b[35m-57484.6632\u001b[0m  1.9819\n",
      "      3  \u001b[36m-111356.6430\u001b[0m       0.0000  \u001b[35m-183338.0826\u001b[0m  2.0648\n",
      "      4  \u001b[36m-281818.1061\u001b[0m       0.0000  \u001b[35m-406101.4204\u001b[0m  1.8933\n",
      "      5  \u001b[36m-555474.1014\u001b[0m       0.0000  \u001b[35m-740166.1621\u001b[0m  1.8221\n",
      "      6  \u001b[36m-944348.4720\u001b[0m       0.0000  \u001b[35m-1195835.7541\u001b[0m  1.8471\n",
      "      7  \u001b[36m-1457350.6248\u001b[0m       0.0000  \u001b[35m-1781061.9265\u001b[0m  1.8429\n",
      "      8  \u001b[36m-2101629.4808\u001b[0m       0.0000  \u001b[35m-2502501.6417\u001b[0m  1.8295\n",
      "      9  \u001b[36m-2883396.6514\u001b[0m       0.0000  \u001b[35m-3366153.1330\u001b[0m  1.8293\n",
      "     10  \u001b[36m-3808409.4211\u001b[0m       0.0000  \u001b[35m-4377725.2889\u001b[0m  1.8247\n",
      "     11  \u001b[36m-4882251.9323\u001b[0m       0.0000  \u001b[35m-5542842.5326\u001b[0m  1.8187\n",
      "     12  \u001b[36m-6110483.5923\u001b[0m       0.0000  \u001b[35m-6867152.7608\u001b[0m  1.8413\n",
      "     13  \u001b[36m-7498718.3879\u001b[0m       0.0000  \u001b[35m-8356383.1939\u001b[0m  1.8263\n",
      "     14  \u001b[36m-9052652.8386\u001b[0m       0.0000  \u001b[35m-10016347.0226\u001b[0m  1.8584\n",
      "     15  \u001b[36m-10778069.3874\u001b[0m       0.0000  \u001b[35m-11852941.7162\u001b[0m  1.8012\n",
      "wandb: Agent Finished Run: yib5bptw \n",
      "\n",
      "wandb: Agent Starting Run: et3qcff3 with config:\n",
      "\tfc_layer1: 93\n",
      "\tfc_layer2: 12\n",
      "\tfc_layer3: 10\n",
      "\tlearning_rate: 0.1\n",
      "wandb: Agent Started Run: et3qcff3\n"
     ]
    },
    {
     "data": {
      "text/html": [
       "\n",
       "                Logging results to <a href=\"https://wandb.com\" target=\"_blank\">Weights & Biases</a> <a href=\"https://docs.wandb.com/integrations/jupyter.html\" target=\"_blank\">(Documentation)</a>.<br/>\n",
       "                Project page: <a href=\"https://app.wandb.ai/cayush/uncategorized\" target=\"_blank\">https://app.wandb.ai/cayush/uncategorized</a><br/>\n",
       "                Sweep page: <a href=\"https://app.wandb.ai/cayush/uncategorized/sweeps/wmrcdkdu\" target=\"_blank\">https://app.wandb.ai/cayush/uncategorized/sweeps/wmrcdkdu</a><br/>\n",
       "Run page: <a href=\"https://app.wandb.ai/cayush/uncategorized/runs/et3qcff3\" target=\"_blank\">https://app.wandb.ai/cayush/uncategorized/runs/et3qcff3</a><br/>\n",
       "            "
      ],
      "text/plain": [
       "<IPython.core.display.HTML object>"
      ]
     },
     "metadata": {},
     "output_type": "display_data"
    },
    {
     "name": "stderr",
     "output_type": "stream",
     "text": [
      "wandb: Wandb version 0.8.32 is available!  To upgrade, please run:\n",
      "wandb:  $ pip install wandb --upgrade\n"
     ]
    },
    {
     "name": "stdout",
     "output_type": "stream",
     "text": [
      "Layers:\n",
      " {'fc_layer1': 93, 'fc_layer2': 12, 'fc_layer3': 10, 'learning_rate': 0.1}\n",
      "  epoch        train_loss    valid_acc         valid_loss     dur\n",
      "-------  ----------------  -----------  -----------------  ------\n",
      "      1  \u001b[36m-2726179133.4682\u001b[0m       \u001b[32m0.0000\u001b[0m  \u001b[35m-12152484050.4926\u001b[0m  1.6772\n",
      "      2  \u001b[36m-47594393807.6878\u001b[0m       0.0000  \u001b[35m-103960318542.4383\u001b[0m  1.8705\n",
      "      3  \u001b[36m-203621290967.1658\u001b[0m       0.0000  \u001b[35m-337029002600.7498\u001b[0m  1.6417\n",
      "      4  \u001b[36m-520118418103.6299\u001b[0m       0.0000  \u001b[35m-751320287376.2999\u001b[0m  1.8734\n",
      "      5  \u001b[36m-1029638682091.7070\u001b[0m       0.0000  \u001b[35m-1373845285394.8650\u001b[0m  2.1292\n",
      "      6  \u001b[36m-1754756307981.5286\u001b[0m       0.0000  \u001b[35m-2223953472760.2222\u001b[0m  1.9352\n",
      "      7  \u001b[36m-2712203519210.7036\u001b[0m       0.0000  \u001b[35m-3316580379451.4077\u001b[0m  2.3629\n",
      "      8  \u001b[36m-3915413163228.5547\u001b[0m       0.0000  \u001b[35m-4664235510285.5693\u001b[0m  2.1322\n",
      "      9  \u001b[36m-5376057551389.8916\u001b[0m       0.0000  \u001b[35m-6278190480274.7822\u001b[0m  2.3091\n",
      "     10  \u001b[36m-7104941225149.8564\u001b[0m       0.0000  \u001b[35m-8169148247669.4922\u001b[0m  2.3329\n",
      "     11  \u001b[36m-9112549391189.8359\u001b[0m       0.0000  \u001b[35m-10347672789325.6113\u001b[0m  2.2580\n",
      "     12  \u001b[36m-11409318253035.3340\u001b[0m       0.0000  \u001b[35m-12824378419508.4570\u001b[0m  2.0601\n",
      "     13  \u001b[36m-14005775991349.3086\u001b[0m       0.0000  \u001b[35m-15609982378656.5176\u001b[0m  2.6282\n",
      "     14  \u001b[36m-16912596302356.1270\u001b[0m       0.0000  \u001b[35m-18715378993190.3906\u001b[0m  2.2484\n",
      "     15  \u001b[36m-20140647196893.5078\u001b[0m       0.0000  \u001b[35m-22151690719541.7812\u001b[0m  2.0964\n",
      "wandb: Agent Finished Run: et3qcff3 \n",
      "\n",
      "wandb: Agent Starting Run: hu8clpve with config:\n",
      "\tfc_layer1: 93\n",
      "\tfc_layer2: 10\n",
      "\tfc_layer3: 10\n",
      "\tlearning_rate: 0.1\n",
      "wandb: Agent Started Run: hu8clpve\n"
     ]
    },
    {
     "data": {
      "text/html": [
       "\n",
       "                Logging results to <a href=\"https://wandb.com\" target=\"_blank\">Weights & Biases</a> <a href=\"https://docs.wandb.com/integrations/jupyter.html\" target=\"_blank\">(Documentation)</a>.<br/>\n",
       "                Project page: <a href=\"https://app.wandb.ai/cayush/uncategorized\" target=\"_blank\">https://app.wandb.ai/cayush/uncategorized</a><br/>\n",
       "                Sweep page: <a href=\"https://app.wandb.ai/cayush/uncategorized/sweeps/wmrcdkdu\" target=\"_blank\">https://app.wandb.ai/cayush/uncategorized/sweeps/wmrcdkdu</a><br/>\n",
       "Run page: <a href=\"https://app.wandb.ai/cayush/uncategorized/runs/hu8clpve\" target=\"_blank\">https://app.wandb.ai/cayush/uncategorized/runs/hu8clpve</a><br/>\n",
       "            "
      ],
      "text/plain": [
       "<IPython.core.display.HTML object>"
      ]
     },
     "metadata": {},
     "output_type": "display_data"
    },
    {
     "name": "stderr",
     "output_type": "stream",
     "text": [
      "wandb: Wandb version 0.8.32 is available!  To upgrade, please run:\n",
      "wandb:  $ pip install wandb --upgrade\n"
     ]
    },
    {
     "name": "stdout",
     "output_type": "stream",
     "text": [
      "Layers:\n",
      " {'fc_layer1': 93, 'fc_layer2': 10, 'fc_layer3': 10, 'learning_rate': 0.1}\n",
      "  epoch        train_loss    valid_acc         valid_loss     dur\n",
      "-------  ----------------  -----------  -----------------  ------\n",
      "      1  \u001b[36m-2270352013.5096\u001b[0m       \u001b[32m0.0000\u001b[0m  \u001b[35m-10123747595.4182\u001b[0m  1.9911\n",
      "      2  \u001b[36m-39657468805.0836\u001b[0m       0.0000  \u001b[35m-86627848644.7576\u001b[0m  2.1156\n",
      "      3  \u001b[36m-169677794877.0445\u001b[0m       0.0000  \u001b[35m-280849674480.9412\u001b[0m  2.2470\n",
      "      4  \u001b[36m-433423343463.4198\u001b[0m       0.0000  \u001b[35m-626090132822.2159\u001b[0m  1.9120\n",
      "      5  \u001b[36m-858020742498.1863\u001b[0m       0.0000  \u001b[35m-1144857329431.0020\u001b[0m  2.3926\n",
      "      6  \u001b[36m-1462282242071.2512\u001b[0m       0.0000  \u001b[35m-1853277578576.9204\u001b[0m  2.3664\n",
      "      7  \u001b[36m-2260152190340.6079\u001b[0m       0.0000  \u001b[35m-2763797682672.4448\u001b[0m  1.8867\n",
      "      8  \u001b[36m-3262824988328.4463\u001b[0m       0.0000  \u001b[35m-3886842176944.2378\u001b[0m  2.2675\n",
      "      9  \u001b[36m-4480026951251.7168\u001b[0m       0.0000  \u001b[35m-5231801434980.4473\u001b[0m  2.1450\n",
      "     10  \u001b[36m-5920760127921.9102\u001b[0m       0.0000  \u001b[35m-6807597719811.4756\u001b[0m  1.8615\n",
      "     11  \u001b[36m-7593764013936.4385\u001b[0m       0.0000  \u001b[35m-8623029307811.6611\u001b[0m  1.5763\n",
      "     12  \u001b[36m-9507733813147.9629\u001b[0m       0.0000  \u001b[35m-10686947951545.1738\u001b[0m  1.8963\n",
      "     13  \u001b[36m-11671445160539.0391\u001b[0m       0.0000  \u001b[35m-13008280820049.5820\u001b[0m  2.1040\n",
      "     14  \u001b[36m-14093791972464.6562\u001b[0m       0.0000  \u001b[35m-15596102858035.7949\u001b[0m  2.2101\n",
      "     15  \u001b[36m-16783824448095.4238\u001b[0m       0.0000  \u001b[35m-18459688169840.0312\u001b[0m  1.9613\n",
      "wandb: Agent Finished Run: hu8clpve \n",
      "\n",
      "wandb: Agent Starting Run: o27pjgdp with config:\n",
      "\tfc_layer1: 93\n",
      "\tfc_layer2: 12\n",
      "\tfc_layer3: 10\n",
      "\tlearning_rate: 0.001\n",
      "wandb: Agent Started Run: o27pjgdp\n"
     ]
    },
    {
     "data": {
      "text/html": [
       "\n",
       "                Logging results to <a href=\"https://wandb.com\" target=\"_blank\">Weights & Biases</a> <a href=\"https://docs.wandb.com/integrations/jupyter.html\" target=\"_blank\">(Documentation)</a>.<br/>\n",
       "                Project page: <a href=\"https://app.wandb.ai/cayush/uncategorized\" target=\"_blank\">https://app.wandb.ai/cayush/uncategorized</a><br/>\n",
       "                Sweep page: <a href=\"https://app.wandb.ai/cayush/uncategorized/sweeps/wmrcdkdu\" target=\"_blank\">https://app.wandb.ai/cayush/uncategorized/sweeps/wmrcdkdu</a><br/>\n",
       "Run page: <a href=\"https://app.wandb.ai/cayush/uncategorized/runs/o27pjgdp\" target=\"_blank\">https://app.wandb.ai/cayush/uncategorized/runs/o27pjgdp</a><br/>\n",
       "            "
      ],
      "text/plain": [
       "<IPython.core.display.HTML object>"
      ]
     },
     "metadata": {},
     "output_type": "display_data"
    },
    {
     "name": "stderr",
     "output_type": "stream",
     "text": [
      "wandb: Wandb version 0.8.32 is available!  To upgrade, please run:\n",
      "wandb:  $ pip install wandb --upgrade\n"
     ]
    },
    {
     "name": "stdout",
     "output_type": "stream",
     "text": [
      "Layers:\n",
      " {'fc_layer1': 93, 'fc_layer2': 12, 'fc_layer3': 10, 'learning_rate': 0.001}\n",
      "  epoch    train_loss    valid_acc    valid_loss     dur\n",
      "-------  ------------  -----------  ------------  ------\n",
      "      1    \u001b[36m-3003.3074\u001b[0m       \u001b[32m0.0000\u001b[0m   \u001b[35m-12811.6791\u001b[0m  2.4207\n",
      "      2   \u001b[36m-48680.0901\u001b[0m       0.0000  \u001b[35m-105539.0289\u001b[0m  1.9049\n",
      "      3  \u001b[36m-205718.7013\u001b[0m       0.0000  \u001b[35m-339743.1547\u001b[0m  2.0598\n",
      "      4  \u001b[36m-523445.6079\u001b[0m       0.0000  \u001b[35m-755389.7052\u001b[0m  2.1253\n",
      "      5  \u001b[36m-1034405.5579\u001b[0m       0.0000  \u001b[35m-1379473.9331\u001b[0m  2.0332\n",
      "      6  \u001b[36m-1761154.8727\u001b[0m       0.0000  \u001b[35m-2231327.3856\u001b[0m  2.0516\n",
      "      7  \u001b[36m-2720411.3782\u001b[0m       0.0000  \u001b[35m-3325872.9824\u001b[0m  1.9929\n",
      "      8  \u001b[36m-3925594.2072\u001b[0m       0.0000  \u001b[35m-4675605.3061\u001b[0m  2.2677\n",
      "      9  \u001b[36m-5388359.4661\u001b[0m       0.0000  \u001b[35m-6291781.8190\u001b[0m  2.3923\n",
      "     10  \u001b[36m-7119511.4575\u001b[0m       0.0000  \u001b[35m-8185109.5255\u001b[0m  2.3868\n",
      "     11  \u001b[36m-9129524.5845\u001b[0m       0.0000  \u001b[35m-10366144.1784\u001b[0m  2.0139\n",
      "     12  \u001b[36m-11428833.6101\u001b[0m       0.0000  \u001b[35m-12845483.8733\u001b[0m  1.8606\n",
      "     13  \u001b[36m-14027965.9685\u001b[0m       0.0000  \u001b[35m-15633864.8862\u001b[0m  1.8843\n",
      "     14  \u001b[36m-16937601.6340\u001b[0m       0.0000  \u001b[35m-18742189.1209\u001b[0m  1.8539\n",
      "     15  \u001b[36m-20168600.3944\u001b[0m       0.0000  \u001b[35m-22181531.3911\u001b[0m  1.8896\n",
      "wandb: Agent Finished Run: o27pjgdp \n",
      "\n",
      "wandb: Agent Starting Run: kivwtpok with config:\n",
      "\tfc_layer1: 93\n",
      "\tfc_layer2: 16\n",
      "\tfc_layer3: 10\n",
      "\tlearning_rate: 0.1\n",
      "wandb: Agent Started Run: kivwtpok\n"
     ]
    },
    {
     "data": {
      "text/html": [
       "\n",
       "                Logging results to <a href=\"https://wandb.com\" target=\"_blank\">Weights & Biases</a> <a href=\"https://docs.wandb.com/integrations/jupyter.html\" target=\"_blank\">(Documentation)</a>.<br/>\n",
       "                Project page: <a href=\"https://app.wandb.ai/cayush/uncategorized\" target=\"_blank\">https://app.wandb.ai/cayush/uncategorized</a><br/>\n",
       "                Sweep page: <a href=\"https://app.wandb.ai/cayush/uncategorized/sweeps/wmrcdkdu\" target=\"_blank\">https://app.wandb.ai/cayush/uncategorized/sweeps/wmrcdkdu</a><br/>\n",
       "Run page: <a href=\"https://app.wandb.ai/cayush/uncategorized/runs/kivwtpok\" target=\"_blank\">https://app.wandb.ai/cayush/uncategorized/runs/kivwtpok</a><br/>\n",
       "            "
      ],
      "text/plain": [
       "<IPython.core.display.HTML object>"
      ]
     },
     "metadata": {},
     "output_type": "display_data"
    },
    {
     "name": "stderr",
     "output_type": "stream",
     "text": [
      "wandb: Wandb version 0.8.32 is available!  To upgrade, please run:\n",
      "wandb:  $ pip install wandb --upgrade\n"
     ]
    },
    {
     "name": "stdout",
     "output_type": "stream",
     "text": [
      "Layers:\n",
      " {'fc_layer1': 93, 'fc_layer2': 16, 'fc_layer3': 10, 'learning_rate': 0.1}\n",
      "  epoch        train_loss    valid_acc         valid_loss     dur\n",
      "-------  ----------------  -----------  -----------------  ------\n",
      "      1  \u001b[36m-3629864814.2202\u001b[0m       \u001b[32m0.0000\u001b[0m  \u001b[35m-16191744303.1622\u001b[0m  1.9281\n",
      "      2  \u001b[36m-63443378289.5249\u001b[0m       0.0000  \u001b[35m-138593333340.6697\u001b[0m  1.8773\n",
      "      3  \u001b[36m-271471852485.7068\u001b[0m       0.0000  \u001b[35m-449344089410.3581\u001b[0m  1.8819\n",
      "      4  \u001b[36m-693461026331.5331\u001b[0m       0.0000  \u001b[35m-1001724543208.9980\u001b[0m  1.8513\n",
      "      5  \u001b[36m-1372814159979.7329\u001b[0m       0.0000  \u001b[35m-1831749662766.3350\u001b[0m  1.8502\n",
      "      6  \u001b[36m-2339629049121.6460\u001b[0m       0.0000  \u001b[35m-2965216590029.1973\u001b[0m  1.8390\n",
      "      7  \u001b[36m-3616215608354.2148\u001b[0m       0.0000  \u001b[35m-4422041141459.8164\u001b[0m  1.8472\n",
      "      8  \u001b[36m-5220483907485.3691\u001b[0m       0.0000  \u001b[35m-6218902111966.0762\u001b[0m  1.8466\n",
      "      9  \u001b[36m-7167998687532.4443\u001b[0m       0.0000  \u001b[35m-8370829375619.0615\u001b[0m  1.8727\n",
      "     10  \u001b[36m-9473165515805.4160\u001b[0m       0.0000  \u001b[35m-10892094707223.4980\u001b[0m  1.8402\n",
      "     11  \u001b[36m-12149964369460.4395\u001b[0m       0.0000  \u001b[35m-13796779713142.1543\u001b[0m  1.8468\n",
      "     12  \u001b[36m-15212309922872.9688\u001b[0m       0.0000  \u001b[35m-17099038386050.2344\u001b[0m  1.9079\n",
      "     13  \u001b[36m-18674239298028.0781\u001b[0m       0.0000  \u001b[35m-20813160270286.0234\u001b[0m  1.8949\n",
      "     14  \u001b[36m-22549985336156.7891\u001b[0m       0.0000  \u001b[35m-24953674232917.3867\u001b[0m  1.6719\n",
      "     15  \u001b[36m-26854040394758.9102\u001b[0m       0.0000  \u001b[35m-29535407097915.5742\u001b[0m  1.8635\n",
      "wandb: Agent Finished Run: kivwtpok \n",
      "\n",
      "wandb: Agent Starting Run: 2rp0bcul with config:\n",
      "\tfc_layer1: 93\n",
      "\tfc_layer2: 8\n",
      "\tfc_layer3: 8\n",
      "\tlearning_rate: 0.001\n",
      "wandb: Agent Started Run: 2rp0bcul\n"
     ]
    },
    {
     "data": {
      "text/html": [
       "\n",
       "                Logging results to <a href=\"https://wandb.com\" target=\"_blank\">Weights & Biases</a> <a href=\"https://docs.wandb.com/integrations/jupyter.html\" target=\"_blank\">(Documentation)</a>.<br/>\n",
       "                Project page: <a href=\"https://app.wandb.ai/cayush/uncategorized\" target=\"_blank\">https://app.wandb.ai/cayush/uncategorized</a><br/>\n",
       "                Sweep page: <a href=\"https://app.wandb.ai/cayush/uncategorized/sweeps/wmrcdkdu\" target=\"_blank\">https://app.wandb.ai/cayush/uncategorized/sweeps/wmrcdkdu</a><br/>\n",
       "Run page: <a href=\"https://app.wandb.ai/cayush/uncategorized/runs/2rp0bcul\" target=\"_blank\">https://app.wandb.ai/cayush/uncategorized/runs/2rp0bcul</a><br/>\n",
       "            "
      ],
      "text/plain": [
       "<IPython.core.display.HTML object>"
      ]
     },
     "metadata": {},
     "output_type": "display_data"
    },
    {
     "name": "stderr",
     "output_type": "stream",
     "text": [
      "wandb: Wandb version 0.8.32 is available!  To upgrade, please run:\n",
      "wandb:  $ pip install wandb --upgrade\n"
     ]
    },
    {
     "name": "stdout",
     "output_type": "stream",
     "text": [
      "Layers:\n",
      " {'fc_layer1': 93, 'fc_layer2': 8, 'fc_layer3': 8, 'learning_rate': 0.001}\n",
      "  epoch    train_loss    valid_acc    valid_loss     dur\n",
      "-------  ------------  -----------  ------------  ------\n",
      "      1    \u001b[36m-1742.2470\u001b[0m       \u001b[32m0.0000\u001b[0m    \u001b[35m-7241.9362\u001b[0m  2.2667\n",
      "      2   \u001b[36m-26741.2106\u001b[0m       0.0000   \u001b[35m-57484.6632\u001b[0m  2.4334\n",
      "      3  \u001b[36m-111356.6430\u001b[0m       0.0000  \u001b[35m-183338.0826\u001b[0m  2.3862\n",
      "      4  \u001b[36m-281818.1061\u001b[0m       0.0000  \u001b[35m-406101.4204\u001b[0m  2.5547\n",
      "      5  \u001b[36m-555474.1014\u001b[0m       0.0000  \u001b[35m-740166.1621\u001b[0m  2.3198\n",
      "      6  \u001b[36m-944348.4720\u001b[0m       0.0000  \u001b[35m-1195835.7541\u001b[0m  2.2378\n",
      "      7  \u001b[36m-1457350.6248\u001b[0m       0.0000  \u001b[35m-1781061.9265\u001b[0m  2.3712\n",
      "      8  \u001b[36m-2101629.4808\u001b[0m       0.0000  \u001b[35m-2502501.6417\u001b[0m  2.2525\n",
      "      9  \u001b[36m-2883396.6514\u001b[0m       0.0000  \u001b[35m-3366153.1330\u001b[0m  2.5426\n",
      "     10  \u001b[36m-3808409.4211\u001b[0m       0.0000  \u001b[35m-4377725.2889\u001b[0m  2.0575\n",
      "     11  \u001b[36m-4882251.9323\u001b[0m       0.0000  \u001b[35m-5542842.5326\u001b[0m  1.9716\n",
      "     12  \u001b[36m-6110483.5923\u001b[0m       0.0000  \u001b[35m-6867152.7608\u001b[0m  1.8514\n",
      "     13  \u001b[36m-7498718.3879\u001b[0m       0.0000  \u001b[35m-8356383.1939\u001b[0m  1.8421\n",
      "     14  \u001b[36m-9052652.8386\u001b[0m       0.0000  \u001b[35m-10016347.0226\u001b[0m  1.6353\n",
      "     15  \u001b[36m-10778069.3874\u001b[0m       0.0000  \u001b[35m-11852941.7162\u001b[0m  2.2299\n",
      "wandb: Agent Finished Run: 2rp0bcul \n",
      "\n",
      "wandb: Agent Starting Run: 71mwg7na with config:\n",
      "\tfc_layer1: 93\n",
      "\tfc_layer2: 8\n",
      "\tfc_layer3: 8\n",
      "\tlearning_rate: 0.01\n",
      "wandb: Agent Started Run: 71mwg7na\n"
     ]
    },
    {
     "data": {
      "text/html": [
       "\n",
       "                Logging results to <a href=\"https://wandb.com\" target=\"_blank\">Weights & Biases</a> <a href=\"https://docs.wandb.com/integrations/jupyter.html\" target=\"_blank\">(Documentation)</a>.<br/>\n",
       "                Project page: <a href=\"https://app.wandb.ai/cayush/uncategorized\" target=\"_blank\">https://app.wandb.ai/cayush/uncategorized</a><br/>\n",
       "                Sweep page: <a href=\"https://app.wandb.ai/cayush/uncategorized/sweeps/wmrcdkdu\" target=\"_blank\">https://app.wandb.ai/cayush/uncategorized/sweeps/wmrcdkdu</a><br/>\n",
       "Run page: <a href=\"https://app.wandb.ai/cayush/uncategorized/runs/71mwg7na\" target=\"_blank\">https://app.wandb.ai/cayush/uncategorized/runs/71mwg7na</a><br/>\n",
       "            "
      ],
      "text/plain": [
       "<IPython.core.display.HTML object>"
      ]
     },
     "metadata": {},
     "output_type": "display_data"
    },
    {
     "name": "stderr",
     "output_type": "stream",
     "text": [
      "wandb: Wandb version 0.8.32 is available!  To upgrade, please run:\n",
      "wandb:  $ pip install wandb --upgrade\n"
     ]
    },
    {
     "name": "stdout",
     "output_type": "stream",
     "text": [
      "Layers:\n",
      " {'fc_layer1': 93, 'fc_layer2': 8, 'fc_layer3': 8, 'learning_rate': 0.01}\n",
      "  epoch     train_loss    valid_acc     valid_loss     dur\n",
      "-------  -------------  -----------  -------------  ------\n",
      "      1  \u001b[36m-1478364.4412\u001b[0m       \u001b[32m0.0000\u001b[0m  \u001b[35m-6538102.3933\u001b[0m  2.4927\n",
      "      2  \u001b[36m-25465956.4619\u001b[0m       0.0000  \u001b[35m-55553689.2696\u001b[0m  2.6704\n",
      "      3  \u001b[36m-108728570.3650\u001b[0m       0.0000  \u001b[35m-179905310.5831\u001b[0m  2.5101\n",
      "      4  \u001b[36m-277577163.8285\u001b[0m       0.0000  \u001b[35m-400914024.6257\u001b[0m  2.3704\n",
      "      5  \u001b[36m-549377444.7668\u001b[0m       0.0000  \u001b[35m-732987200.7447\u001b[0m  2.7714\n",
      "      6  \u001b[36m-936169476.3260\u001b[0m       0.0000  \u001b[35m-1186445127.0743\u001b[0m  1.9773\n",
      "      7  \u001b[36m-1446877980.8880\u001b[0m       0.0000  \u001b[35m-1769253313.0343\u001b[0m  1.9464\n",
      "      8  \u001b[36m-2088665461.3053\u001b[0m       0.0000  \u001b[35m-2488080883.4234\u001b[0m  2.1381\n",
      "      9  \u001b[36m-2867753395.0686\u001b[0m       0.0000  \u001b[35m-3348936604.0491\u001b[0m  2.4062\n",
      "     10  \u001b[36m-3789908558.9276\u001b[0m       0.0000  \u001b[35m-4357534581.3264\u001b[0m  2.9408\n",
      "     11  \u001b[36m-4860716808.3054\u001b[0m       0.0000  \u001b[35m-5519501505.9444\u001b[0m  2.4273\n",
      "     12  \u001b[36m-6085748954.4445\u001b[0m       0.0000  \u001b[35m-6840503327.1105\u001b[0m  2.0663\n",
      "     13  \u001b[36m-7470620525.7497\u001b[0m       0.0000  \u001b[35m-8326250799.8242\u001b[0m  2.3837\n",
      "     14  \u001b[36m-9021027915.4420\u001b[0m       0.0000  \u001b[35m-9982576612.1991\u001b[0m  2.3450\n",
      "     15  \u001b[36m-10742766932.2852\u001b[0m       0.0000  \u001b[35m-11815385790.3038\u001b[0m  2.2896\n",
      "wandb: Agent Finished Run: 71mwg7na \n",
      "\n",
      "wandb: Agent Starting Run: 0t9dwqvf with config:\n",
      "\tfc_layer1: 93\n",
      "\tfc_layer2: 16\n",
      "\tfc_layer3: 10\n",
      "\tlearning_rate: 0.1\n",
      "wandb: Agent Started Run: 0t9dwqvf\n"
     ]
    },
    {
     "data": {
      "text/html": [
       "\n",
       "                Logging results to <a href=\"https://wandb.com\" target=\"_blank\">Weights & Biases</a> <a href=\"https://docs.wandb.com/integrations/jupyter.html\" target=\"_blank\">(Documentation)</a>.<br/>\n",
       "                Project page: <a href=\"https://app.wandb.ai/cayush/uncategorized\" target=\"_blank\">https://app.wandb.ai/cayush/uncategorized</a><br/>\n",
       "                Sweep page: <a href=\"https://app.wandb.ai/cayush/uncategorized/sweeps/wmrcdkdu\" target=\"_blank\">https://app.wandb.ai/cayush/uncategorized/sweeps/wmrcdkdu</a><br/>\n",
       "Run page: <a href=\"https://app.wandb.ai/cayush/uncategorized/runs/0t9dwqvf\" target=\"_blank\">https://app.wandb.ai/cayush/uncategorized/runs/0t9dwqvf</a><br/>\n",
       "            "
      ],
      "text/plain": [
       "<IPython.core.display.HTML object>"
      ]
     },
     "metadata": {},
     "output_type": "display_data"
    },
    {
     "name": "stderr",
     "output_type": "stream",
     "text": [
      "wandb: Wandb version 0.8.32 is available!  To upgrade, please run:\n",
      "wandb:  $ pip install wandb --upgrade\n"
     ]
    },
    {
     "name": "stdout",
     "output_type": "stream",
     "text": [
      "Layers:\n",
      " {'fc_layer1': 93, 'fc_layer2': 16, 'fc_layer3': 10, 'learning_rate': 0.1}\n",
      "  epoch        train_loss    valid_acc         valid_loss     dur\n",
      "-------  ----------------  -----------  -----------------  ------\n",
      "      1  \u001b[36m-3629864814.2202\u001b[0m       \u001b[32m0.0000\u001b[0m  \u001b[35m-16191744303.1622\u001b[0m  2.5581\n",
      "      2  \u001b[36m-63443378289.5249\u001b[0m       0.0000  \u001b[35m-138593333340.6697\u001b[0m  2.4409\n",
      "      3  \u001b[36m-271471852485.7068\u001b[0m       0.0000  \u001b[35m-449344089410.3581\u001b[0m  2.5236\n",
      "      4  \u001b[36m-693461026331.5331\u001b[0m       0.0000  \u001b[35m-1001724543208.9980\u001b[0m  2.2367\n",
      "      5  \u001b[36m-1372814159979.7329\u001b[0m       0.0000  \u001b[35m-1831749662766.3350\u001b[0m  2.2205\n",
      "      6  \u001b[36m-2339629049121.6460\u001b[0m       0.0000  \u001b[35m-2965216590029.1973\u001b[0m  2.3167\n",
      "      7  \u001b[36m-3616215608354.2148\u001b[0m       0.0000  \u001b[35m-4422041141459.8164\u001b[0m  2.4290\n",
      "      8  \u001b[36m-5220483907485.3691\u001b[0m       0.0000  \u001b[35m-6218902111966.0762\u001b[0m  2.5027\n",
      "      9  \u001b[36m-7167998687532.4443\u001b[0m       0.0000  \u001b[35m-8370829375619.0615\u001b[0m  2.2651\n",
      "     10  \u001b[36m-9473165515805.4160\u001b[0m       0.0000  \u001b[35m-10892094707223.4980\u001b[0m  2.4213\n",
      "     11  \u001b[36m-12149964369460.4395\u001b[0m       0.0000  \u001b[35m-13796779713142.1543\u001b[0m  2.6729\n",
      "     12  \u001b[36m-15212309922872.9688\u001b[0m       0.0000  \u001b[35m-17099038386050.2344\u001b[0m  2.5422\n",
      "     13  \u001b[36m-18674239298028.0781\u001b[0m       0.0000  \u001b[35m-20813160270286.0234\u001b[0m  2.5277\n",
      "     14  \u001b[36m-22549985336156.7891\u001b[0m       0.0000  \u001b[35m-24953674232917.3867\u001b[0m  2.2834\n",
      "     15  \u001b[36m-26854040394758.9102\u001b[0m       0.0000  \u001b[35m-29535407097915.5742\u001b[0m  2.5718\n",
      "wandb: Agent Finished Run: 0t9dwqvf \n",
      "\n",
      "wandb: Agent Starting Run: va8zbsfp with config:\n",
      "\tfc_layer1: 93\n",
      "\tfc_layer2: 10\n",
      "\tfc_layer3: 8\n",
      "\tlearning_rate: 0.001\n",
      "wandb: Agent Started Run: va8zbsfp\n"
     ]
    },
    {
     "data": {
      "text/html": [
       "\n",
       "                Logging results to <a href=\"https://wandb.com\" target=\"_blank\">Weights & Biases</a> <a href=\"https://docs.wandb.com/integrations/jupyter.html\" target=\"_blank\">(Documentation)</a>.<br/>\n",
       "                Project page: <a href=\"https://app.wandb.ai/cayush/uncategorized\" target=\"_blank\">https://app.wandb.ai/cayush/uncategorized</a><br/>\n",
       "                Sweep page: <a href=\"https://app.wandb.ai/cayush/uncategorized/sweeps/wmrcdkdu\" target=\"_blank\">https://app.wandb.ai/cayush/uncategorized/sweeps/wmrcdkdu</a><br/>\n",
       "Run page: <a href=\"https://app.wandb.ai/cayush/uncategorized/runs/va8zbsfp\" target=\"_blank\">https://app.wandb.ai/cayush/uncategorized/runs/va8zbsfp</a><br/>\n",
       "            "
      ],
      "text/plain": [
       "<IPython.core.display.HTML object>"
      ]
     },
     "metadata": {},
     "output_type": "display_data"
    },
    {
     "name": "stderr",
     "output_type": "stream",
     "text": [
      "wandb: Wandb version 0.8.32 is available!  To upgrade, please run:\n",
      "wandb:  $ pip install wandb --upgrade\n"
     ]
    },
    {
     "name": "stdout",
     "output_type": "stream",
     "text": [
      "Layers:\n",
      " {'fc_layer1': 93, 'fc_layer2': 10, 'fc_layer3': 8, 'learning_rate': 0.001}\n",
      "  epoch    train_loss    valid_acc    valid_loss     dur\n",
      "-------  ------------  -----------  ------------  ------\n",
      "      1    \u001b[36m-1986.9637\u001b[0m       \u001b[32m0.0000\u001b[0m    \u001b[35m-8539.2105\u001b[0m  2.5127\n",
      "      2   \u001b[36m-32527.6831\u001b[0m       0.0000   \u001b[35m-70524.4741\u001b[0m  2.7251\n",
      "      3  \u001b[36m-137433.2338\u001b[0m       0.0000  \u001b[35m-226906.9172\u001b[0m  2.6286\n",
      "      4  \u001b[36m-349526.4425\u001b[0m       0.0000  \u001b[35m-504300.0659\u001b[0m  2.4262\n",
      "      5  \u001b[36m-690486.2575\u001b[0m       0.0000  \u001b[35m-920691.1353\u001b[0m  2.3793\n",
      "      6  \u001b[36m-1175344.2046\u001b[0m       0.0000  \u001b[35m-1488964.4123\u001b[0m  2.2756\n",
      "      7  \u001b[36m-1815242.8415\u001b[0m       0.0000  \u001b[35m-2219066.8213\u001b[0m  2.1875\n",
      "      8  \u001b[36m-2619125.9192\u001b[0m       0.0000  \u001b[35m-3119325.7710\u001b[0m  2.2857\n",
      "      9  \u001b[36m-3594762.5070\u001b[0m       0.0000  \u001b[35m-4197244.2780\u001b[0m  2.3919\n",
      "     10  \u001b[36m-4749355.1172\u001b[0m       0.0000  \u001b[35m-5459962.0640\u001b[0m  2.2170\n",
      "     11  \u001b[36m-6089884.4895\u001b[0m       0.0000  \u001b[35m-6914509.7544\u001b[0m  2.5582\n",
      "     12  \u001b[36m-7623305.2695\u001b[0m       0.0000  \u001b[35m-8567957.7492\u001b[0m  2.9309\n",
      "     13  \u001b[36m-9356637.9102\u001b[0m       0.0000  \u001b[35m-10427460.1474\u001b[0m  2.1934\n",
      "     14  \u001b[36m-11297003.9780\u001b[0m       0.0000  \u001b[35m-12500288.9638\u001b[0m  2.3094\n",
      "     15  \u001b[36m-13451639.5658\u001b[0m       0.0000  \u001b[35m-14793826.4958\u001b[0m  2.4475\n",
      "wandb: Agent Finished Run: va8zbsfp \n",
      "\n",
      "wandb: Agent Starting Run: jal0uf1u with config:\n",
      "\tfc_layer1: 93\n",
      "\tfc_layer2: 12\n",
      "\tfc_layer3: 20\n",
      "\tlearning_rate: 0.001\n",
      "wandb: Agent Started Run: jal0uf1u\n"
     ]
    },
    {
     "data": {
      "text/html": [
       "\n",
       "                Logging results to <a href=\"https://wandb.com\" target=\"_blank\">Weights & Biases</a> <a href=\"https://docs.wandb.com/integrations/jupyter.html\" target=\"_blank\">(Documentation)</a>.<br/>\n",
       "                Project page: <a href=\"https://app.wandb.ai/cayush/uncategorized\" target=\"_blank\">https://app.wandb.ai/cayush/uncategorized</a><br/>\n",
       "                Sweep page: <a href=\"https://app.wandb.ai/cayush/uncategorized/sweeps/wmrcdkdu\" target=\"_blank\">https://app.wandb.ai/cayush/uncategorized/sweeps/wmrcdkdu</a><br/>\n",
       "Run page: <a href=\"https://app.wandb.ai/cayush/uncategorized/runs/jal0uf1u\" target=\"_blank\">https://app.wandb.ai/cayush/uncategorized/runs/jal0uf1u</a><br/>\n",
       "            "
      ],
      "text/plain": [
       "<IPython.core.display.HTML object>"
      ]
     },
     "metadata": {},
     "output_type": "display_data"
    },
    {
     "name": "stderr",
     "output_type": "stream",
     "text": [
      "wandb: Wandb version 0.8.32 is available!  To upgrade, please run:\n",
      "wandb:  $ pip install wandb --upgrade\n"
     ]
    },
    {
     "name": "stdout",
     "output_type": "stream",
     "text": [
      "Layers:\n",
      " {'fc_layer1': 93, 'fc_layer2': 12, 'fc_layer3': 20, 'learning_rate': 0.001}\n",
      "  epoch    train_loss    valid_acc    valid_loss     dur\n",
      "-------  ------------  -----------  ------------  ------\n",
      "      1    \u001b[36m-5697.2278\u001b[0m       \u001b[32m0.0000\u001b[0m   \u001b[35m-24936.1068\u001b[0m  2.3698\n",
      "      2   \u001b[36m-96315.4044\u001b[0m       0.0000  \u001b[35m-209620.4378\u001b[0m  2.5640\n",
      "      3  \u001b[36m-409569.0541\u001b[0m       0.0000  \u001b[35m-677105.0419\u001b[0m  2.3252\n",
      "      4  \u001b[36m-1044029.3717\u001b[0m       0.0000  \u001b[35m-1507291.4095\u001b[0m  2.2724\n",
      "      5  \u001b[36m-2064780.4803\u001b[0m       0.0000  \u001b[35m-2754179.0504\u001b[0m  2.3706\n",
      "      6  \u001b[36m-3516948.6058\u001b[0m       0.0000  \u001b[35m-4456448.2560\u001b[0m  2.6335\n",
      "      7  \u001b[36m-5433984.9382\u001b[0m       0.0000  \u001b[35m-6643959.0058\u001b[0m  2.2517\n",
      "      8  \u001b[36m-7842740.0317\u001b[0m       0.0000  \u001b[35m-9341709.9651\u001b[0m  2.5136\n",
      "      9  \u001b[36m-10766531.2793\u001b[0m       0.0000  \u001b[35m-12572220.1435\u001b[0m  2.1825\n",
      "     10  \u001b[36m-14226977.5843\u001b[0m       0.0000  \u001b[35m-16356920.1319\u001b[0m  2.2750\n",
      "     11  \u001b[36m-18245035.2608\u001b[0m       0.0000  \u001b[35m-20716917.1765\u001b[0m  2.3353\n",
      "     12  \u001b[36m-22841575.7216\u001b[0m       0.0000  \u001b[35m-25673417.6988\u001b[0m  2.3795\n",
      "     13  \u001b[36m-28037653.9497\u001b[0m       0.0000  \u001b[35m-31247885.9690\u001b[0m  2.3513\n",
      "     14  \u001b[36m-33854631.3332\u001b[0m       0.0000  \u001b[35m-37462134.0685\u001b[0m  2.3654\n",
      "     15  \u001b[36m-40314229.1903\u001b[0m       0.0000  \u001b[35m-44338315.7776\u001b[0m  2.4990\n",
      "wandb: Agent Finished Run: jal0uf1u \n",
      "\n",
      "wandb: Agent Starting Run: t5dm0i2s with config:\n",
      "\tfc_layer1: 93\n",
      "\tfc_layer2: 16\n",
      "\tfc_layer3: 4\n",
      "\tlearning_rate: 0.1\n",
      "wandb: Agent Started Run: t5dm0i2s\n"
     ]
    },
    {
     "data": {
      "text/html": [
       "\n",
       "                Logging results to <a href=\"https://wandb.com\" target=\"_blank\">Weights & Biases</a> <a href=\"https://docs.wandb.com/integrations/jupyter.html\" target=\"_blank\">(Documentation)</a>.<br/>\n",
       "                Project page: <a href=\"https://app.wandb.ai/cayush/uncategorized\" target=\"_blank\">https://app.wandb.ai/cayush/uncategorized</a><br/>\n",
       "                Sweep page: <a href=\"https://app.wandb.ai/cayush/uncategorized/sweeps/wmrcdkdu\" target=\"_blank\">https://app.wandb.ai/cayush/uncategorized/sweeps/wmrcdkdu</a><br/>\n",
       "Run page: <a href=\"https://app.wandb.ai/cayush/uncategorized/runs/t5dm0i2s\" target=\"_blank\">https://app.wandb.ai/cayush/uncategorized/runs/t5dm0i2s</a><br/>\n",
       "            "
      ],
      "text/plain": [
       "<IPython.core.display.HTML object>"
      ]
     },
     "metadata": {},
     "output_type": "display_data"
    },
    {
     "name": "stderr",
     "output_type": "stream",
     "text": [
      "wandb: Wandb version 0.8.32 is available!  To upgrade, please run:\n",
      "wandb:  $ pip install wandb --upgrade\n"
     ]
    },
    {
     "name": "stdout",
     "output_type": "stream",
     "text": [
      "Layers:\n",
      " {'fc_layer1': 93, 'fc_layer2': 16, 'fc_layer3': 4, 'learning_rate': 0.1}\n",
      "  epoch        train_loss    valid_acc        valid_loss     dur\n",
      "-------  ----------------  -----------  ----------------  ------\n",
      "      1  \u001b[36m-1453579289.7088\u001b[0m       \u001b[32m0.0000\u001b[0m  \u001b[35m-6480450403.4544\u001b[0m  2.6494\n",
      "      2  \u001b[36m-25382511727.9114\u001b[0m       0.0000  \u001b[35m-55444011803.6354\u001b[0m  2.5732\n",
      "      3  \u001b[36m-108596392197.9679\u001b[0m       0.0000  \u001b[35m-179746840189.4350\u001b[0m  2.3976\n",
      "      4  \u001b[36m-277394486586.3036\u001b[0m       0.0000  \u001b[35m-400701800034.9580\u001b[0m  2.4481\n",
      "      5  \u001b[36m-549138241162.9067\u001b[0m       0.0000  \u001b[35m-732714546144.8894\u001b[0m  2.8625\n",
      "      6  \u001b[36m-935866545542.4282\u001b[0m       0.0000  \u001b[35m-1186104002704.3000\u001b[0m  2.0732\n",
      "      7  \u001b[36m-1446503874420.9897\u001b[0m       0.0000  \u001b[35m-1768837166366.6140\u001b[0m  2.1544\n",
      "      8  \u001b[36m-2088214152463.4421\u001b[0m       0.0000  \u001b[35m-2487584558735.9688\u001b[0m  1.8932\n",
      "      9  \u001b[36m-2867222473888.6479\u001b[0m       0.0000  \u001b[35m-3348358175311.7622\u001b[0m  1.9611\n",
      "     10  \u001b[36m-3789291178389.8599\u001b[0m       0.0000  \u001b[35m-4356867074716.5454\u001b[0m  1.8416\n",
      "     11  \u001b[36m-4860014413604.9766\u001b[0m       0.0000  \u001b[35m-5518746728684.9697\u001b[0m  1.8644\n",
      "     12  \u001b[36m-6084957087619.9668\u001b[0m       0.0000  \u001b[35m-6839653849563.2627\u001b[0m  2.0524\n",
      "     13  \u001b[36m-7469732775987.0527\u001b[0m       0.0000  \u001b[35m-8325306425984.7451\u001b[0m  1.9477\n",
      "     14  \u001b[36m-9020035935791.8047\u001b[0m       0.0000  \u001b[35m-9981518473979.8633\u001b[0m  2.6372\n",
      "     15  \u001b[36m-10741664571010.3848\u001b[0m       0.0000  \u001b[35m-11814219621691.7383\u001b[0m  2.4257\n",
      "wandb: Agent Finished Run: t5dm0i2s \n",
      "\n",
      "wandb: Agent Starting Run: q9545qhc with config:\n",
      "\tfc_layer1: 93\n",
      "\tfc_layer2: 16\n",
      "\tfc_layer3: 10\n",
      "\tlearning_rate: 0.1\n",
      "wandb: Agent Started Run: q9545qhc\n"
     ]
    },
    {
     "data": {
      "text/html": [
       "\n",
       "                Logging results to <a href=\"https://wandb.com\" target=\"_blank\">Weights & Biases</a> <a href=\"https://docs.wandb.com/integrations/jupyter.html\" target=\"_blank\">(Documentation)</a>.<br/>\n",
       "                Project page: <a href=\"https://app.wandb.ai/cayush/uncategorized\" target=\"_blank\">https://app.wandb.ai/cayush/uncategorized</a><br/>\n",
       "                Sweep page: <a href=\"https://app.wandb.ai/cayush/uncategorized/sweeps/wmrcdkdu\" target=\"_blank\">https://app.wandb.ai/cayush/uncategorized/sweeps/wmrcdkdu</a><br/>\n",
       "Run page: <a href=\"https://app.wandb.ai/cayush/uncategorized/runs/q9545qhc\" target=\"_blank\">https://app.wandb.ai/cayush/uncategorized/runs/q9545qhc</a><br/>\n",
       "            "
      ],
      "text/plain": [
       "<IPython.core.display.HTML object>"
      ]
     },
     "metadata": {},
     "output_type": "display_data"
    },
    {
     "name": "stderr",
     "output_type": "stream",
     "text": [
      "wandb: Wandb version 0.8.32 is available!  To upgrade, please run:\n",
      "wandb:  $ pip install wandb --upgrade\n"
     ]
    },
    {
     "name": "stdout",
     "output_type": "stream",
     "text": [
      "Layers:\n",
      " {'fc_layer1': 93, 'fc_layer2': 16, 'fc_layer3': 10, 'learning_rate': 0.1}\n",
      "  epoch        train_loss    valid_acc         valid_loss     dur\n",
      "-------  ----------------  -----------  -----------------  ------\n",
      "      1  \u001b[36m-3629864814.2202\u001b[0m       \u001b[32m0.0000\u001b[0m  \u001b[35m-16191744303.1622\u001b[0m  2.0103\n",
      "      2  \u001b[36m-63443378289.5249\u001b[0m       0.0000  \u001b[35m-138593333340.6697\u001b[0m  2.3047\n",
      "      3  \u001b[36m-271471852485.7068\u001b[0m       0.0000  \u001b[35m-449344089410.3581\u001b[0m  2.5204\n",
      "      4  \u001b[36m-693461026331.5331\u001b[0m       0.0000  \u001b[35m-1001724543208.9980\u001b[0m  1.9312\n",
      "      5  \u001b[36m-1372814159979.7329\u001b[0m       0.0000  \u001b[35m-1831749662766.3350\u001b[0m  2.1377\n",
      "      6  \u001b[36m-2339629049121.6460\u001b[0m       0.0000  \u001b[35m-2965216590029.1973\u001b[0m  2.6933\n",
      "      7  \u001b[36m-3616215608354.2148\u001b[0m       0.0000  \u001b[35m-4422041141459.8164\u001b[0m  2.2326\n",
      "      8  \u001b[36m-5220483907485.3691\u001b[0m       0.0000  \u001b[35m-6218902111966.0762\u001b[0m  2.1324\n",
      "      9  \u001b[36m-7167998687532.4443\u001b[0m       0.0000  \u001b[35m-8370829375619.0615\u001b[0m  2.5903\n",
      "     10  \u001b[36m-9473165515805.4160\u001b[0m       0.0000  \u001b[35m-10892094707223.4980\u001b[0m  2.4210\n",
      "     11  \u001b[36m-12149964369460.4395\u001b[0m       0.0000  \u001b[35m-13796779713142.1543\u001b[0m  2.4416\n",
      "     12  \u001b[36m-15212309922872.9688\u001b[0m       0.0000  \u001b[35m-17099038386050.2344\u001b[0m  1.9391\n",
      "     13  \u001b[36m-18674239298028.0781\u001b[0m       0.0000  \u001b[35m-20813160270286.0234\u001b[0m  1.8191\n",
      "     14  \u001b[36m-22549985336156.7891\u001b[0m       0.0000  \u001b[35m-24953674232917.3867\u001b[0m  1.6436\n",
      "     15  \u001b[36m-26854040394758.9102\u001b[0m       0.0000  \u001b[35m-29535407097915.5742\u001b[0m  1.9958\n",
      "wandb: Agent Finished Run: q9545qhc \n",
      "\n",
      "wandb: Agent Starting Run: u2df5wy1 with config:\n",
      "\tfc_layer1: 93\n",
      "\tfc_layer2: 8\n",
      "\tfc_layer3: 8\n",
      "\tlearning_rate: 0.001\n",
      "wandb: Agent Started Run: u2df5wy1\n"
     ]
    },
    {
     "data": {
      "text/html": [
       "\n",
       "                Logging results to <a href=\"https://wandb.com\" target=\"_blank\">Weights & Biases</a> <a href=\"https://docs.wandb.com/integrations/jupyter.html\" target=\"_blank\">(Documentation)</a>.<br/>\n",
       "                Project page: <a href=\"https://app.wandb.ai/cayush/uncategorized\" target=\"_blank\">https://app.wandb.ai/cayush/uncategorized</a><br/>\n",
       "                Sweep page: <a href=\"https://app.wandb.ai/cayush/uncategorized/sweeps/wmrcdkdu\" target=\"_blank\">https://app.wandb.ai/cayush/uncategorized/sweeps/wmrcdkdu</a><br/>\n",
       "Run page: <a href=\"https://app.wandb.ai/cayush/uncategorized/runs/u2df5wy1\" target=\"_blank\">https://app.wandb.ai/cayush/uncategorized/runs/u2df5wy1</a><br/>\n",
       "            "
      ],
      "text/plain": [
       "<IPython.core.display.HTML object>"
      ]
     },
     "metadata": {},
     "output_type": "display_data"
    },
    {
     "name": "stderr",
     "output_type": "stream",
     "text": [
      "wandb: Wandb version 0.8.32 is available!  To upgrade, please run:\n",
      "wandb:  $ pip install wandb --upgrade\n"
     ]
    },
    {
     "name": "stdout",
     "output_type": "stream",
     "text": [
      "Layers:\n",
      " {'fc_layer1': 93, 'fc_layer2': 8, 'fc_layer3': 8, 'learning_rate': 0.001}\n",
      "  epoch    train_loss    valid_acc    valid_loss     dur\n",
      "-------  ------------  -----------  ------------  ------\n",
      "      1    \u001b[36m-1742.2470\u001b[0m       \u001b[32m0.0000\u001b[0m    \u001b[35m-7241.9362\u001b[0m  2.3818\n",
      "      2   \u001b[36m-26741.2106\u001b[0m       0.0000   \u001b[35m-57484.6632\u001b[0m  2.5821\n",
      "      3  \u001b[36m-111356.6430\u001b[0m       0.0000  \u001b[35m-183338.0826\u001b[0m  2.3894\n"
     ]
    }
   ],
   "source": [
    "classifier.runSweep(sweep_config)"
   ]
  },
  {
   "cell_type": "markdown",
   "metadata": {},
   "source": []
  },
  {
   "cell_type": "code",
   "execution_count": null,
   "metadata": {},
   "outputs": [],
   "source": []
  }
 ],
 "metadata": {
  "kernelspec": {
   "display_name": "Python 3",
   "language": "python",
   "name": "python3"
  },
  "language_info": {
   "codemirror_mode": {
    "name": "ipython",
    "version": 3
   },
   "file_extension": ".py",
   "mimetype": "text/x-python",
   "name": "python",
   "nbconvert_exporter": "python",
   "pygments_lexer": "ipython3",
   "version": "3.6.8"
  }
 },
 "nbformat": 4,
 "nbformat_minor": 2
}
